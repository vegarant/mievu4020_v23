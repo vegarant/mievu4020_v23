{
 "cells": [
  {
   "cell_type": "markdown",
   "metadata": {},
   "source": [
    "# Eksamen MIEVU 4020, våren 2023\n",
    "## Del 2"
   ]
  },
  {
   "cell_type": "markdown",
   "metadata": {},
   "source": [
    "## Oppgave 4"
   ]
  },
  {
   "cell_type": "markdown",
   "metadata": {},
   "source": [
    "I denne oppgaven er vi gitt datasettet som blir lastet inn nedenfor. "
   ]
  },
  {
   "cell_type": "code",
   "execution_count": 15,
   "metadata": {},
   "outputs": [
    {
     "name": "stdout",
     "output_type": "stream",
     "text": [
      "         x1        x2        x3         y\n",
      "0 -0.142162  0.963853  0.720087  6.483571\n",
      "1  0.059549  1.394729  0.366668  6.277310\n",
      "2  1.658376  0.213960 -0.198990 -3.200254\n",
      "3  1.379993  0.684539 -0.263495 -1.350651\n",
      "4  0.673410 -0.241320 -1.625416 -8.693241\n",
      "5  0.640048 -0.696355  0.118752 -2.713351\n",
      "6 -0.951284 -0.314124  1.311156  7.500831\n",
      "7  1.093711 -0.628170  0.237942 -2.643027\n",
      "8 -1.129425 -1.028875 -0.599801 -4.737120\n",
      "\n",
      "\n",
      "X.shape:  (538, 3)\n",
      "y.shape:  (538, 1)\n"
     ]
    }
   ],
   "source": [
    "import pandas as pd\n",
    "\n",
    "columns = ['x1', 'x2', 'x3', 'y']\n",
    "\n",
    "df = pd.read_csv('https://www.uio.no/studier/emner/matnat/math/MIEVU4020/v23/undervisningsmateriale/data1.txt', \n",
    "                 sep=',',\n",
    "                 usecols=columns)\n",
    "\n",
    "print(df.head(n=9))\n",
    "\n",
    "# Exatract the data\n",
    "features = ['x1', 'x2', 'x3']\n",
    "target = ['y']\n",
    "X = df[features].values\n",
    "y = df[target].values\n",
    "print('\\n\\nX.shape: ', X.shape)\n",
    "print('y.shape: ', y.shape)"
   ]
  },
  {
   "cell_type": "markdown",
   "metadata": {},
   "source": [
    "### Oppgave 4a\n",
    "Vi ønsker å predikere $y$-verdiene gitt de tre ulike $x$-verdiene $x_1$, $x_2$ og $x_3$. Del dataene inn i treningsdata og testdata. Tren deretter en lineær modell \n",
    "$$\n",
    "    y = w \\cdot x + b\n",
    "$$\n",
    "til å predikere $y$ gitt en vektor $x \\in \\mathbb{R}^3$.\n",
    "\n",
    "Print verdiene du finner for $w$ og $b$.\n",
    "\n",
    "Du velger selv om du vil bruke PyTorch, scikit-learn eller et annet bibliotek til å løse oppgaven."
   ]
  },
  {
   "cell_type": "code",
   "execution_count": null,
   "metadata": {},
   "outputs": [],
   "source": []
  },
  {
   "cell_type": "markdown",
   "metadata": {},
   "source": [
    "### Oppgave 4b\n",
    "Bruk modellen du fant i oppgave 5a til å lage et residualplot av treningsdataene og testdataene.\n",
    "\n",
    "Hvis du ikke fant noen verdier for $w$ og $b$ i forrige oppgave, bruk verdiene $w = \\begin{bmatrix}-1.62 & 2.46 & 3.98\\end{bmatrix}$ og $b = 0.02$."
   ]
  },
  {
   "cell_type": "code",
   "execution_count": null,
   "metadata": {},
   "outputs": [],
   "source": []
  },
  {
   "cell_type": "markdown",
   "metadata": {},
   "source": [
    "## Oppgave 5\n",
    "\n",
    "I denne oppgaven skal vi trene et nevralt nettverk til å predikere siffer fra MNIST datasettet. Vi starter med å laste inn datasettet. "
   ]
  },
  {
   "cell_type": "code",
   "execution_count": 16,
   "metadata": {},
   "outputs": [],
   "source": [
    "import torch\n",
    "from torch.utils.data import Dataset\n",
    "from torch.utils.data import DataLoader\n",
    "from torchvision import datasets\n",
    "from torchvision.transforms import ToTensor\n",
    "\n",
    "training_data = datasets.MNIST(\n",
    "    root=\"data\",\n",
    "    train=True,\n",
    "    download=True,\n",
    "    transform=ToTensor()\n",
    ")\n",
    "\n",
    "test_data = datasets.MNIST(\n",
    "    root=\"data\",\n",
    "    train=False,\n",
    "    download=True,\n",
    "    transform=ToTensor()\n",
    ")\n",
    "\n",
    "shuffle=True\n",
    "batch_size = 64\n",
    "\n",
    "train_dataloader = DataLoader(training_data, batch_size=batch_size, shuffle=shuffle)\n",
    "test_dataloader = DataLoader(test_data, batch_size=batch_size)\n"
   ]
  },
  {
   "cell_type": "markdown",
   "metadata": {},
   "source": [
    "### Oppgave 5a\n",
    "Lag et nevralt nettverk i PyTorch som består av minst 3 lag."
   ]
  },
  {
   "cell_type": "code",
   "execution_count": null,
   "metadata": {},
   "outputs": [],
   "source": []
  },
  {
   "cell_type": "markdown",
   "metadata": {},
   "source": [
    "### Oppgave 5b\n",
    "\n",
    "Tren det nevrale nettverket fra forrige oppgave på treningsdataene ved bruk av en cross entropy lossfunksjon. Bruk minst 5 epochs.\n"
   ]
  },
  {
   "cell_type": "code",
   "execution_count": null,
   "metadata": {},
   "outputs": [],
   "source": []
  }
 ],
 "metadata": {
  "kernelspec": {
   "display_name": "Python 3 (ipykernel)",
   "language": "python",
   "name": "python3"
  },
  "language_info": {
   "codemirror_mode": {
    "name": "ipython",
    "version": 3
   },
   "file_extension": ".py",
   "mimetype": "text/x-python",
   "name": "python",
   "nbconvert_exporter": "python",
   "pygments_lexer": "ipython3",
   "version": "3.9.5"
  }
 },
 "nbformat": 4,
 "nbformat_minor": 4
}
