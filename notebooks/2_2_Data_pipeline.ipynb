{
 "cells": [
  {
   "cell_type": "markdown",
   "id": "2d159955-d132-4724-83fc-bc76ad2e0598",
   "metadata": {},
   "source": [
    "# Building input pipelines in PyTorch"
   ]
  },
  {
   "cell_type": "markdown",
   "id": "ba251d0f-2a83-4a9c-b0ad-35d65a6d24fd",
   "metadata": {},
   "source": [
    "## Creating a PyTorch DataLoader from existing tensors"
   ]
  },
  {
   "cell_type": "code",
   "execution_count": 2,
   "id": "5c0d199e-533e-4d8e-9a40-cd2baa909a6d",
   "metadata": {},
   "outputs": [],
   "source": [
    "import torch\n",
    "import numpy as np\n",
    "from torch.utils.data import DataLoader\n",
    "\n",
    "t = torch.arange(6, dtype=torch.float32)\n",
    "data_loader = DataLoader(t)"
   ]
  },
  {
   "cell_type": "code",
   "execution_count": 3,
   "id": "0b4931bb-c8fe-4a69-a675-1a12eb893c2d",
   "metadata": {},
   "outputs": [
    {
     "name": "stdout",
     "output_type": "stream",
     "text": [
      "tensor([0.])\n",
      "tensor([1.])\n",
      "tensor([2.])\n",
      "tensor([3.])\n",
      "tensor([4.])\n",
      "tensor([5.])\n"
     ]
    }
   ],
   "source": [
    "for item in data_loader:\n",
    "    print(item)"
   ]
  },
  {
   "cell_type": "code",
   "execution_count": 4,
   "id": "2b273440-8ff7-429d-be63-513bfc3642b7",
   "metadata": {},
   "outputs": [
    {
     "name": "stdout",
     "output_type": "stream",
     "text": [
      "batch 1: tensor([0., 1., 2.])\n",
      "batch 2: tensor([3., 4., 5.])\n"
     ]
    }
   ],
   "source": [
    "# Instead of iterating over single elements, we can iterate over batches\n",
    "\n",
    "data_loader = DataLoader(t, batch_size=3, drop_last=False)\n",
    "\n",
    "\n",
    "for i, batch in enumerate(data_loader, 1): # Start counting at 1\n",
    "    print(f'batch {i}:', batch)"
   ]
  },
  {
   "cell_type": "markdown",
   "id": "801b409d-6f85-47ff-8321-ff93d0d3efdc",
   "metadata": {},
   "source": [
    "### Combining two tensors into a joint dataset"
   ]
  },
  {
   "cell_type": "code",
   "execution_count": 8,
   "id": "0f4e931b-c53a-4174-aa8b-2b7609eb8a3c",
   "metadata": {},
   "outputs": [],
   "source": [
    "from torch.utils.data import Dataset\n",
    "\n",
    "class JointDataset(Dataset):\n",
    "    def __init__(self, x, y):\n",
    "        self.x = x\n",
    "        self.y = y\n",
    "    def __len__(self):\n",
    "        return len(self.x)\n",
    "    def __getitem__(self, idx):\n",
    "        return self.x[idx], self.y[idx]"
   ]
  },
  {
   "cell_type": "code",
   "execution_count": 9,
   "id": "67ee20b1-f003-4a48-806a-96189c5503a6",
   "metadata": {},
   "outputs": [
    {
     "name": "stdout",
     "output_type": "stream",
     "text": [
      "  x:  tensor([0.7576, 0.2793, 0.4031])   y:  tensor(0)\n",
      "  x:  tensor([0.7347, 0.0293, 0.7999])   y:  tensor(1)\n",
      "  x:  tensor([0.3971, 0.7544, 0.5695])   y:  tensor(2)\n",
      "  x:  tensor([0.4388, 0.6387, 0.5247])   y:  tensor(3)\n"
     ]
    }
   ],
   "source": [
    "torch.manual_seed(1)\n",
    "\n",
    "t_x = torch.rand([4, 3], dtype=torch.float32)\n",
    "t_y = torch.arange(4)\n",
    "joint_dataset = JointDataset(t_x, t_y)\n",
    "\n",
    "for example in joint_dataset:\n",
    "    print('  x: ', example[0], \n",
    "          '  y: ', example[1])\n",
    "\n"
   ]
  },
  {
   "cell_type": "markdown",
   "id": "0c0b98c3-938e-4568-88f2-2c767a64807b",
   "metadata": {},
   "source": [
    "#### Use buit-in class"
   ]
  },
  {
   "cell_type": "code",
   "execution_count": null,
   "id": "60abdfd0-0f0f-4573-8395-08c6e0baffd6",
   "metadata": {},
   "outputs": [],
   "source": [
    "# We can also use TensorDataset directly\n",
    "from torch.utils.data import TensorDataset\n",
    "joint_dataset = TensorDataset(t_x, t_y)\n",
    "\n",
    "for example in joint_dataset:\n",
    "    print('  x: ', example[0], \n",
    "          '  y: ', example[1])"
   ]
  },
  {
   "cell_type": "markdown",
   "id": "cce03daa-3200-44a9-b4aa-d8e4fad4112f",
   "metadata": {},
   "source": [
    "### Shuffle, batch, and repeat"
   ]
  },
  {
   "cell_type": "code",
   "execution_count": 20,
   "id": "9f083292-576c-4ba0-bc4b-514d6264465c",
   "metadata": {},
   "outputs": [
    {
     "name": "stdout",
     "output_type": "stream",
     "text": [
      "batch 1: x: tensor([[0.3971, 0.7544, 0.5695],\n",
      "        [0.7576, 0.2793, 0.4031]]) \n",
      "         y: tensor([2, 0])\n",
      "batch 2: x: tensor([[0.7347, 0.0293, 0.7999],\n",
      "        [0.4388, 0.6387, 0.5247]]) \n",
      "         y: tensor([1, 3])\n",
      "epoch 1\n",
      "batch 1: x: tensor([[0.7576, 0.2793, 0.4031],\n",
      "        [0.3971, 0.7544, 0.5695]]) \n",
      "         y: tensor([0, 2])\n",
      "batch 2: x: tensor([[0.7347, 0.0293, 0.7999],\n",
      "        [0.4388, 0.6387, 0.5247]]) \n",
      "         y: tensor([1, 3])\n",
      "epoch 2\n",
      "batch 1: x: tensor([[0.4388, 0.6387, 0.5247],\n",
      "        [0.3971, 0.7544, 0.5695]]) \n",
      "         y: tensor([3, 2])\n",
      "batch 2: x: tensor([[0.7576, 0.2793, 0.4031],\n",
      "        [0.7347, 0.0293, 0.7999]]) \n",
      "         y: tensor([0, 1])\n"
     ]
    }
   ],
   "source": [
    "torch.manual_seed(1)\n",
    "data_loader = DataLoader(dataset=joint_dataset, batch_size=2, shuffle=True)\n",
    "\n",
    "for i, batch in enumerate(data_loader, 1):\n",
    "        print(f'batch {i}:', 'x:', batch[0], \n",
    "              '\\n         y:', batch[1])\n",
    "        \n",
    "for epoch in range(2):\n",
    "    print(f'epoch {epoch+1}')\n",
    "    for i, batch in enumerate(data_loader, 1):\n",
    "        print(f'batch {i}:', 'x:', batch[0], \n",
    "              '\\n         y:', batch[1])"
   ]
  },
  {
   "cell_type": "markdown",
   "id": "e16e8a9a-a666-4621-b5ee-8ad2ca533ae3",
   "metadata": {},
   "source": [
    "## Linear regression dataset\n",
    "Recall the model \n",
    "$$y = wx + b + \\epsilon, \\quad x\\sim \\mathcal{N}(0,2) \\text{ and } \\epsilon \\sim \\mathcal{N}(0,0.6^2)$$\n",
    "We can create this data using a dataset object"
   ]
  },
  {
   "cell_type": "code",
   "execution_count": 23,
   "id": "682fb901-d73f-4a39-b103-c22403a4213f",
   "metadata": {},
   "outputs": [
    {
     "name": "stdout",
     "output_type": "stream",
     "text": [
      "(tensor([-2.7265, -1.9664,  3.0225]), tensor([ 6.7774,  6.7625, -1.3927]))\n"
     ]
    }
   ],
   "source": [
    "\n",
    "\n",
    "N = 50;\n",
    "\n",
    "x = 2*torch.randn(N, dtype=torch.float)\n",
    "noise = 0.6*torch.randn(N, dtype=torch.float)\n",
    "w = -1.5\n",
    "b = 3\n",
    "\n",
    "y = w*x + b + noise\n",
    "joint_dataset = TensorDataset(x,y);\n",
    "print(joint_dataset[0:3])\n"
   ]
  },
  {
   "cell_type": "code",
   "execution_count": null,
   "id": "81744dac-7990-43c7-a262-5fa54aab8955",
   "metadata": {},
   "outputs": [],
   "source": []
  }
 ],
 "metadata": {
  "kernelspec": {
   "display_name": "Python 3 (ipykernel)",
   "language": "python",
   "name": "python3"
  },
  "language_info": {
   "codemirror_mode": {
    "name": "ipython",
    "version": 3
   },
   "file_extension": ".py",
   "mimetype": "text/x-python",
   "name": "python",
   "nbconvert_exporter": "python",
   "pygments_lexer": "ipython3",
   "version": "3.9.5"
  }
 },
 "nbformat": 4,
 "nbformat_minor": 5
}
