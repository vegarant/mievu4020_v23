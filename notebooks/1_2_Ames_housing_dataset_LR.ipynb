{
 "cells": [
  {
   "cell_type": "markdown",
   "id": "791468e4-5c9f-4757-8ccb-d6a0b1b9974a",
   "metadata": {},
   "source": [
    "# Exploring the Ames Housing dataset\n",
    "This example is from chapter 9 (with some modifications)"
   ]
  },
  {
   "cell_type": "markdown",
   "id": "1e0ffd9e-9f8b-4533-8150-06088887c351",
   "metadata": {},
   "source": [
    "## Loading the Ames Housing dataset into a data frame"
   ]
  },
  {
   "cell_type": "markdown",
   "id": "677f5b1b-64cc-459a-a15d-47fe83dfd0d7",
   "metadata": {},
   "source": [
    "The dataset contains information about individual residential property in Ames, Iowa, from 2006 to 2010. The dataset was collected by Dean De Cock in 2011, and additional information is available via the following links:\n",
    "- Dataset source: http://jse.amstat.org/v19n3/decock/AmesHousing.txt\n",
    "- Dataset documentation: http://jse.amstat.org/v19n3/decock/DataDocumentation.txt\n",
    "- Dataset write-up: http://jse.amstat.org/v19n3/decock.pdf\n",
    "\n",
    "The Ames Housing dataset consists of 2,930 examples and 80 features. For simplicity, we will only work with a subset of the features, shown in the following list."
   ]
  },
  {
   "cell_type": "markdown",
   "id": "5e5e65ff-1736-4275-9ebe-74d15e811123",
   "metadata": {},
   "source": [
    "- `'Overall Qual'`: Rates the overall material and finish of the house\n",
    "\n",
    "       10\tVery Excellent\n",
    "       9\tExcellent\n",
    "       8\tVery Good\n",
    "       7\tGood\n",
    "       6\tAbove Average\n",
    "       5\tAverage\n",
    "       4\tBelow Average\n",
    "       3\tFair\n",
    "       2\tPoor\n",
    "       1\tVery Poor\n",
    "\t\n",
    "- `'Overall Cond'`: Rates the overall condition of the house\n",
    "\n",
    "       10\tVery Excellent\n",
    "       9\tExcellent\n",
    "       8\tVery Good\n",
    "       7\tGood\n",
    "       6\tAbove Average\t\n",
    "       5\tAverage\n",
    "       4\tBelow Average\t\n",
    "       3\tFair\n",
    "       2\tPoor\n",
    "       1\tVery Poor\n",
    "- `'Gr Liv Area'`: Above grade (ground) living area square feet\n",
    "- `'Central Air'`: Central air conditioning\n",
    "\n",
    "       N\tNo\n",
    "       Y\tYes\n",
    "\n",
    "- `'Total Bsmt SF'`: Total square feet of basement area\n",
    "- `'SalePrice'`: Sale price $$"
   ]
  },
  {
   "cell_type": "markdown",
   "id": "b698be5e-6c09-48e9-b7a6-e68fb7c9c29a",
   "metadata": {},
   "source": [
    "Import the data into a Pandas dataframe (df)"
   ]
  },
  {
   "cell_type": "code",
   "execution_count": 20,
   "id": "8c9a8c8e-27c9-4937-8e74-dc9b8389288f",
   "metadata": {},
   "outputs": [
    {
     "data": {
      "text/html": [
       "<div>\n",
       "<style scoped>\n",
       "    .dataframe tbody tr th:only-of-type {\n",
       "        vertical-align: middle;\n",
       "    }\n",
       "\n",
       "    .dataframe tbody tr th {\n",
       "        vertical-align: top;\n",
       "    }\n",
       "\n",
       "    .dataframe thead th {\n",
       "        text-align: right;\n",
       "    }\n",
       "</style>\n",
       "<table border=\"1\" class=\"dataframe\">\n",
       "  <thead>\n",
       "    <tr style=\"text-align: right;\">\n",
       "      <th></th>\n",
       "      <th>Overall Qual</th>\n",
       "      <th>Overall Cond</th>\n",
       "      <th>Total Bsmt SF</th>\n",
       "      <th>Central Air</th>\n",
       "      <th>Gr Liv Area</th>\n",
       "      <th>SalePrice</th>\n",
       "    </tr>\n",
       "  </thead>\n",
       "  <tbody>\n",
       "    <tr>\n",
       "      <th>0</th>\n",
       "      <td>6</td>\n",
       "      <td>5</td>\n",
       "      <td>1080.0</td>\n",
       "      <td>Y</td>\n",
       "      <td>1656</td>\n",
       "      <td>215000</td>\n",
       "    </tr>\n",
       "    <tr>\n",
       "      <th>1</th>\n",
       "      <td>5</td>\n",
       "      <td>6</td>\n",
       "      <td>882.0</td>\n",
       "      <td>Y</td>\n",
       "      <td>896</td>\n",
       "      <td>105000</td>\n",
       "    </tr>\n",
       "    <tr>\n",
       "      <th>2</th>\n",
       "      <td>6</td>\n",
       "      <td>6</td>\n",
       "      <td>1329.0</td>\n",
       "      <td>Y</td>\n",
       "      <td>1329</td>\n",
       "      <td>172000</td>\n",
       "    </tr>\n",
       "    <tr>\n",
       "      <th>3</th>\n",
       "      <td>7</td>\n",
       "      <td>5</td>\n",
       "      <td>2110.0</td>\n",
       "      <td>Y</td>\n",
       "      <td>2110</td>\n",
       "      <td>244000</td>\n",
       "    </tr>\n",
       "    <tr>\n",
       "      <th>4</th>\n",
       "      <td>5</td>\n",
       "      <td>5</td>\n",
       "      <td>928.0</td>\n",
       "      <td>Y</td>\n",
       "      <td>1629</td>\n",
       "      <td>189900</td>\n",
       "    </tr>\n",
       "  </tbody>\n",
       "</table>\n",
       "</div>"
      ],
      "text/plain": [
       "   Overall Qual  Overall Cond  Total Bsmt SF Central Air  Gr Liv Area  \\\n",
       "0             6             5         1080.0           Y         1656   \n",
       "1             5             6          882.0           Y          896   \n",
       "2             6             6         1329.0           Y         1329   \n",
       "3             7             5         2110.0           Y         2110   \n",
       "4             5             5          928.0           Y         1629   \n",
       "\n",
       "   SalePrice  \n",
       "0     215000  \n",
       "1     105000  \n",
       "2     172000  \n",
       "3     244000  \n",
       "4     189900  "
      ]
     },
     "execution_count": 20,
     "metadata": {},
     "output_type": "execute_result"
    }
   ],
   "source": [
    "import pandas as pd\n",
    "\n",
    "columns = ['Overall Qual', 'Overall Cond', 'Gr Liv Area',\n",
    "           'Central Air', 'Total Bsmt SF', 'SalePrice']\n",
    "\n",
    "df = pd.read_csv('http://jse.amstat.org/v19n3/decock/AmesHousing.txt', \n",
    "                 sep='\\t',\n",
    "                 usecols=columns)\n",
    "\n",
    "df.head(n=5)"
   ]
  },
  {
   "cell_type": "code",
   "execution_count": 2,
   "id": "e78d882a-c0fa-4ab8-886d-6bd858270575",
   "metadata": {},
   "outputs": [
    {
     "data": {
      "text/plain": [
       "(2930, 6)"
      ]
     },
     "execution_count": 2,
     "metadata": {},
     "output_type": "execute_result"
    }
   ],
   "source": [
    "df.shape"
   ]
  },
  {
   "cell_type": "markdown",
   "id": "b0ffa842-91f3-4c62-8db9-720839adfcb8",
   "metadata": {},
   "source": [
    "We convert the 'Y'/'N' strings to the numbers 0 and 1 using the `.map()` function"
   ]
  },
  {
   "cell_type": "code",
   "execution_count": 3,
   "id": "1e83061c-cb95-4da4-86aa-e2e18fdf4605",
   "metadata": {},
   "outputs": [],
   "source": [
    "df['Central Air'] = df['Central Air'].map({'N': 0, 'Y': 1})"
   ]
  },
  {
   "cell_type": "code",
   "execution_count": 4,
   "id": "408eb917-8aaf-4d43-9f5e-b55b6a5beac9",
   "metadata": {},
   "outputs": [
    {
     "data": {
      "text/plain": [
       "Overall Qual     0\n",
       "Overall Cond     0\n",
       "Total Bsmt SF    1\n",
       "Central Air      0\n",
       "Gr Liv Area      0\n",
       "SalePrice        0\n",
       "dtype: int64"
      ]
     },
     "execution_count": 4,
     "metadata": {},
     "output_type": "execute_result"
    }
   ],
   "source": [
    "# Check if there are any missing values?\n",
    "df.isnull().sum()"
   ]
  },
  {
   "cell_type": "code",
   "execution_count": 5,
   "id": "6443b468-00de-4d5e-9d28-1806ff1fb66d",
   "metadata": {},
   "outputs": [
    {
     "data": {
      "text/plain": [
       "Overall Qual     0\n",
       "Overall Cond     0\n",
       "Total Bsmt SF    0\n",
       "Central Air      0\n",
       "Gr Liv Area      0\n",
       "SalePrice        0\n",
       "dtype: int64"
      ]
     },
     "execution_count": 5,
     "metadata": {},
     "output_type": "execute_result"
    }
   ],
   "source": [
    "# We have plenty of data, so we simply remove the row which contains the missing value\n",
    "\n",
    "df = df.dropna(axis=0)\n",
    "df.isnull().sum()"
   ]
  },
  {
   "cell_type": "markdown",
   "id": "4b08fe66-55b7-4403-9fa1-a85433ef050c",
   "metadata": {},
   "source": [
    "To simplify the training procedure we use scikit-learn's own LinearRegression object"
   ]
  },
  {
   "cell_type": "code",
   "execution_count": 6,
   "id": "4fe36056-1e17-4e89-8f46-5243023e6011",
   "metadata": {},
   "outputs": [
    {
     "data": {
      "text/html": [
       "<style>#sk-container-id-1 {color: black;background-color: white;}#sk-container-id-1 pre{padding: 0;}#sk-container-id-1 div.sk-toggleable {background-color: white;}#sk-container-id-1 label.sk-toggleable__label {cursor: pointer;display: block;width: 100%;margin-bottom: 0;padding: 0.3em;box-sizing: border-box;text-align: center;}#sk-container-id-1 label.sk-toggleable__label-arrow:before {content: \"▸\";float: left;margin-right: 0.25em;color: #696969;}#sk-container-id-1 label.sk-toggleable__label-arrow:hover:before {color: black;}#sk-container-id-1 div.sk-estimator:hover label.sk-toggleable__label-arrow:before {color: black;}#sk-container-id-1 div.sk-toggleable__content {max-height: 0;max-width: 0;overflow: hidden;text-align: left;background-color: #f0f8ff;}#sk-container-id-1 div.sk-toggleable__content pre {margin: 0.2em;color: black;border-radius: 0.25em;background-color: #f0f8ff;}#sk-container-id-1 input.sk-toggleable__control:checked~div.sk-toggleable__content {max-height: 200px;max-width: 100%;overflow: auto;}#sk-container-id-1 input.sk-toggleable__control:checked~label.sk-toggleable__label-arrow:before {content: \"▾\";}#sk-container-id-1 div.sk-estimator input.sk-toggleable__control:checked~label.sk-toggleable__label {background-color: #d4ebff;}#sk-container-id-1 div.sk-label input.sk-toggleable__control:checked~label.sk-toggleable__label {background-color: #d4ebff;}#sk-container-id-1 input.sk-hidden--visually {border: 0;clip: rect(1px 1px 1px 1px);clip: rect(1px, 1px, 1px, 1px);height: 1px;margin: -1px;overflow: hidden;padding: 0;position: absolute;width: 1px;}#sk-container-id-1 div.sk-estimator {font-family: monospace;background-color: #f0f8ff;border: 1px dotted black;border-radius: 0.25em;box-sizing: border-box;margin-bottom: 0.5em;}#sk-container-id-1 div.sk-estimator:hover {background-color: #d4ebff;}#sk-container-id-1 div.sk-parallel-item::after {content: \"\";width: 100%;border-bottom: 1px solid gray;flex-grow: 1;}#sk-container-id-1 div.sk-label:hover label.sk-toggleable__label {background-color: #d4ebff;}#sk-container-id-1 div.sk-serial::before {content: \"\";position: absolute;border-left: 1px solid gray;box-sizing: border-box;top: 0;bottom: 0;left: 50%;z-index: 0;}#sk-container-id-1 div.sk-serial {display: flex;flex-direction: column;align-items: center;background-color: white;padding-right: 0.2em;padding-left: 0.2em;position: relative;}#sk-container-id-1 div.sk-item {position: relative;z-index: 1;}#sk-container-id-1 div.sk-parallel {display: flex;align-items: stretch;justify-content: center;background-color: white;position: relative;}#sk-container-id-1 div.sk-item::before, #sk-container-id-1 div.sk-parallel-item::before {content: \"\";position: absolute;border-left: 1px solid gray;box-sizing: border-box;top: 0;bottom: 0;left: 50%;z-index: -1;}#sk-container-id-1 div.sk-parallel-item {display: flex;flex-direction: column;z-index: 1;position: relative;background-color: white;}#sk-container-id-1 div.sk-parallel-item:first-child::after {align-self: flex-end;width: 50%;}#sk-container-id-1 div.sk-parallel-item:last-child::after {align-self: flex-start;width: 50%;}#sk-container-id-1 div.sk-parallel-item:only-child::after {width: 0;}#sk-container-id-1 div.sk-dashed-wrapped {border: 1px dashed gray;margin: 0 0.4em 0.5em 0.4em;box-sizing: border-box;padding-bottom: 0.4em;background-color: white;}#sk-container-id-1 div.sk-label label {font-family: monospace;font-weight: bold;display: inline-block;line-height: 1.2em;}#sk-container-id-1 div.sk-label-container {text-align: center;}#sk-container-id-1 div.sk-container {/* jupyter's `normalize.less` sets `[hidden] { display: none; }` but bootstrap.min.css set `[hidden] { display: none !important; }` so we also need the `!important` here to be able to override the default hidden behavior on the sphinx rendered scikit-learn.org. See: https://github.com/scikit-learn/scikit-learn/issues/21755 */display: inline-block !important;position: relative;}#sk-container-id-1 div.sk-text-repr-fallback {display: none;}</style><div id=\"sk-container-id-1\" class=\"sk-top-container\"><div class=\"sk-text-repr-fallback\"><pre>LinearRegression()</pre><b>In a Jupyter environment, please rerun this cell to show the HTML representation or trust the notebook. <br />On GitHub, the HTML representation is unable to render, please try loading this page with nbviewer.org.</b></div><div class=\"sk-container\" hidden><div class=\"sk-item\"><div class=\"sk-estimator sk-toggleable\"><input class=\"sk-toggleable__control sk-hidden--visually\" id=\"sk-estimator-id-1\" type=\"checkbox\" checked><label for=\"sk-estimator-id-1\" class=\"sk-toggleable__label sk-toggleable__label-arrow\">LinearRegression</label><div class=\"sk-toggleable__content\"><pre>LinearRegression()</pre></div></div></div></div></div>"
      ],
      "text/plain": [
       "LinearRegression()"
      ]
     },
     "execution_count": 6,
     "metadata": {},
     "output_type": "execute_result"
    }
   ],
   "source": [
    "from sklearn.linear_model import LinearRegression\n",
    "import numpy as np\n",
    "import matplotlib.pyplot as plt\n",
    "\n",
    "X = df[['Gr Liv Area']].values\n",
    "y = df['SalePrice'].values\n",
    "\n",
    "slr = LinearRegression()\n",
    "slr.fit(X,y)"
   ]
  },
  {
   "cell_type": "code",
   "execution_count": 7,
   "id": "bfc8e0cf-d069-4b96-ab0d-83d513b4eea5",
   "metadata": {},
   "outputs": [],
   "source": [
    "def lin_regplot(X, y, model):\n",
    "    plt.scatter(X, y, c='steelblue', edgecolor='white', s=70)\n",
    "    plt.plot(X, model.predict(X), color='black', lw=2)"
   ]
  },
  {
   "cell_type": "code",
   "execution_count": 8,
   "id": "58afbfba-eef4-4814-9ec0-596a6b56094f",
   "metadata": {},
   "outputs": [
    {
     "data": {
      "image/png": "[encoded data removed]",
      "text/plain": [
       "<Figure size 432x288 with 1 Axes>"
      ]
     },
     "metadata": {
      "needs_background": "light"
     },
     "output_type": "display_data"
    }
   ],
   "source": [
    "lin_regplot(X, y, slr)\n",
    "plt.xlabel(' Living area above ground')\n",
    "plt.ylabel('Sale price')\n",
    "plt.show()"
   ]
  },
  {
   "cell_type": "markdown",
   "id": "c0fd2c65-d8a1-4265-a6d7-c502292b727f",
   "metadata": {},
   "source": [
    "## Train a model on all five features"
   ]
  },
  {
   "cell_type": "code",
   "execution_count": 15,
   "id": "7f70a74e-9642-4bea-85f9-3887168151a9",
   "metadata": {},
   "outputs": [
    {
     "name": "stdout",
     "output_type": "stream",
     "text": [
      "[ True  True  True  True  True False]\n",
      "X.shape:  (2929, 5)\n",
      "y.shape:  (2929,)\n"
     ]
    }
   ],
   "source": [
    "from sklearn.model_selection import train_test_split\n",
    "from sklearn.linear_model import LinearRegression\n",
    "\n",
    "target = 'SalePrice'\n",
    "print(df.columns != target)\n",
    "features = df.columns[df.columns != target]\n",
    "\n",
    "# Exatract the data\n",
    "X = df[features].values\n",
    "y = df[target].values\n",
    "\n",
    "print('X.shape: ', X.shape)\n",
    "print('y.shape: ', y.shape)"
   ]
  },
  {
   "cell_type": "code",
   "execution_count": 17,
   "id": "620282bf-626b-4eb9-998b-01ddeb66a50d",
   "metadata": {},
   "outputs": [],
   "source": [
    "\n",
    "# Split the data into training and testing data\n",
    "X_train, X_test, y_train, y_test = train_test_split(X, y, test_size=0.3, random_state=123)\n",
    "\n",
    "# Create Linear regression instance\n",
    "slr = LinearRegression()\n",
    "\n",
    "# Train the model\n",
    "slr.fit(X_train, y_train)\n",
    "\n",
    "# Use the trained model to predict housing prices\n",
    "y_train_pred = slr.predict(X_train)\n",
    "y_test_pred = slr.predict(X_test)\n",
    "\n",
    "\n"
   ]
  },
  {
   "cell_type": "markdown",
   "id": "d5a7b47f-83e7-4b48-bffa-b66ab4f18671",
   "metadata": {},
   "source": [
    "In higher dimensions it is challenging to visualize the linear function. In these cases we plot the signed error (residuals)."
   ]
  },
  {
   "cell_type": "code",
   "execution_count": 11,
   "id": "ed7ca1a9-9d3a-47f2-8849-01cdc9afb263",
   "metadata": {},
   "outputs": [
    {
     "data": {
      "image/png": "[encoded data removed]",
      "text/plain": [
       "<Figure size 504x216 with 2 Axes>"
      ]
     },
     "metadata": {
      "needs_background": "light"
     },
     "output_type": "display_data"
    }
   ],
   "source": [
    "x_max = np.max([np.max(y_train_pred), np.max(y_test_pred)])\n",
    "x_min = np.min([np.min(y_train_pred), np.min(y_test_pred)])\n",
    "\n",
    "fig, (ax1, ax2) = plt.subplots(1, 2, figsize=(7, 3), sharey=True)\n",
    "\n",
    "ax1.scatter(\n",
    "    y_test_pred, \n",
    "    y_test_pred - y_test,\n",
    "    c='limegreen',\n",
    "    marker='s',\n",
    "    edgecolor='white',\n",
    "    label='Test data')\n",
    "ax2.scatter(\n",
    "    y_train_pred,\n",
    "    y_train_pred - y_train,\n",
    "    c='steelblue',\n",
    "    marker='o',\n",
    "    edgecolor='white',\n",
    "    label='Training data')\n",
    "\n",
    "ax1.set_ylabel('Residuals')\n",
    "\n",
    "for ax in (ax1, ax2):\n",
    "    ax.set_xlabel('Predicted values')\n",
    "    ax.legend(loc='upper left')\n",
    "    ax.hlines(y=0, xmin=x_min-100, xmax=x_max+100, color='black', lw=2)\n",
    "\n",
    "plt.tight_layout()\n",
    "plt.show()"
   ]
  },
  {
   "cell_type": "markdown",
   "id": "5c987a77-ff2b-4221-a621-2534a22372a8",
   "metadata": {},
   "source": [
    "#### Check the loss of the model\n",
    "In the code below we compute the mean squared error (MSE). That is,\n",
    "$$\n",
    "MSE = \\frac{1}{K} \\sum_{i=1}^{K} (y^{(i)} - \\hat{y}^{(i)})^2\n",
    "$$To simplify the training procedure we use scikit-learn's own LinearRegression object"
   ]
  },
  {
   "cell_type": "code",
   "execution_count": 12,
   "id": "321d691b-4c7c-4f30-a574-f9ac87af760c",
   "metadata": {},
   "outputs": [
    {
     "name": "stdout",
     "output_type": "stream",
     "text": [
      "MSE train: 1497216245.85\n",
      "MSE test: 1516565821.00\n"
     ]
    }
   ],
   "source": [
    "from sklearn.metrics import mean_squared_error\n",
    "mse_train = mean_squared_error(y_train, y_train_pred)\n",
    "mse_test = mean_squared_error(y_test, y_test_pred)\n",
    "print(f'MSE train: {mse_train:.2f}')\n",
    "print(f'MSE test: {mse_test:.2f}')"
   ]
  },
  {
   "cell_type": "markdown",
   "id": "94f051a3-6f98-4140-b087-9c8d538b6895",
   "metadata": {},
   "source": [
    "The mean squared error can be hard to relate to concrete housing prices. Instead we may, for example, use mean absolute error:\n",
    "    $$\n",
    "    MAE = \\frac{1}{K}\\sum_{i=1}^{K}|y^{(i)} - \\hat{y}^{(i)}|\n",
    "    $$"
   ]
  },
  {
   "cell_type": "code",
   "execution_count": 19,
   "id": "43d2b606-e1e7-477c-bd0a-a3c3622fdd50",
   "metadata": {},
   "outputs": [
    {
     "name": "stdout",
     "output_type": "stream",
     "text": [
      "MAE train: 25983.03\n",
      "MAE test: 24921.29\n",
      "Mean house price: 181131\n"
     ]
    }
   ],
   "source": [
    "from sklearn.metrics import mean_absolute_error\n",
    "mae_train = mean_absolute_error(y_train, y_train_pred)\n",
    "mae_test = mean_absolute_error(y_test, y_test_pred)\n",
    "print(f'MAE train: {mae_train:.2f}')\n",
    "print(f'MAE test: {mae_test:.2f}')\n",
    "print(f\"Mean house price: {round(np.mean(y_train))}\")"
   ]
  },
  {
   "cell_type": "code",
   "execution_count": null,
   "id": "d95c8440-e623-49ee-b95b-89a953ce971f",
   "metadata": {},
   "outputs": [],
   "source": []
  },
  {
   "cell_type": "code",
   "execution_count": null,
   "id": "2a799145-fc77-4442-a102-f32c598f695b",
   "metadata": {},
   "outputs": [],
   "source": []
  }
 ],
 "metadata": {
  "kernelspec": {
   "display_name": "Python 3 (ipykernel)",
   "language": "python",
   "name": "python3"
  },
  "language_info": {
   "codemirror_mode": {
    "name": "ipython",
    "version": 3
   },
   "file_extension": ".py",
   "mimetype": "text/x-python",
   "name": "python",
   "nbconvert_exporter": "python",
   "pygments_lexer": "ipython3",
   "version": "3.9.5"
  }
 },
 "nbformat": 4,
 "nbformat_minor": 5
}
