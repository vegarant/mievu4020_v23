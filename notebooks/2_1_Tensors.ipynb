{
 "cells": [
  {
   "cell_type": "markdown",
   "metadata": {},
   "source": [
    "# Introduction to PyTorch\n",
    "## Tensors\n",
    "### Check versions\n"
   ]
  },
  {
   "cell_type": "code",
   "execution_count": 1,
   "metadata": {},
   "outputs": [
    {
     "name": "stdout",
     "output_type": "stream",
     "text": [
      "Python version: 3.9.5 (default, Oct 14 2021, 15:56:58) \n",
      "[GCC 10.3.0]\n",
      "Numpy version: 1.20.3\n",
      "PyTorch version: 1.10.0\n",
      "Matplotlib version: 3.6.2\n",
      "GPU present: True\n"
     ]
    }
   ],
   "source": [
    "import numpy as np\n",
    "import torch\n",
    "import sys\n",
    "import matplotlib\n",
    "\n",
    "# Check versions\n",
    "print(f'Python version: {sys.version}')\n",
    "print(f'Numpy version: {np.version.version}')\n",
    "print(f'PyTorch version: {torch.version.__version__}')\n",
    "print(f'Matplotlib version: {matplotlib.__version__}')\n",
    "print(f'GPU present: {torch.cuda.is_available()}')"
   ]
  },
  {
   "cell_type": "markdown",
   "metadata": {},
   "source": [
    "### Tensors and their attributes"
   ]
  },
  {
   "cell_type": "code",
   "execution_count": 2,
   "metadata": {},
   "outputs": [
    {
     "name": "stdout",
     "output_type": "stream",
     "text": [
      "a:  tensor([[1.],\n",
      "        [2.],\n",
      "        [3.],\n",
      "        [9.]])\n",
      "Precision:  torch.float32\n",
      "Device:  cpu\n",
      "Shape:  torch.Size([4, 1])\n",
      "ndim:  2\n",
      "Requires grad:  False\n"
     ]
    }
   ],
   "source": [
    "# Create simple tensor\n",
    "a = torch.tensor([[1.0],[2],[3],[9]])\n",
    "# a = torch.tensor([[1.0,2,3,9]])\n",
    "# Some attributes\n",
    "print('a: ', a)\n",
    "print('Precision: ', a.dtype)\n",
    "print('Device: ', a.device)\n",
    "print('Shape: ', a.shape) # Returns tuple-like object of dimensions, also known as .size()\n",
    "print('ndim: ', a.ndim)   # Number of dimensions, also known as .dim()\n",
    "print('Requires grad: ', a.requires_grad)"
   ]
  },
  {
   "cell_type": "markdown",
   "metadata": {},
   "source": [
    "### Changing precision"
   ]
  },
  {
   "cell_type": "code",
   "execution_count": 7,
   "metadata": {},
   "outputs": [
    {
     "name": "stdout",
     "output_type": "stream",
     "text": [
      "a.dtype:  torch.int64\n",
      "-----------\n",
      "b.dtype:  torch.float32\n",
      "c.dtype:  torch.float64\n",
      "a.dtype:  torch.int64\n",
      "-----------\n",
      "d.dtype:  torch.float64\n",
      "a.dtype:  torch.int64\n"
     ]
    }
   ],
   "source": [
    "a = torch.arange(10)\n",
    "print('a.dtype: ', a.dtype)\n",
    "print('-----------')\n",
    "b = a.float()\n",
    "c = a.double()\n",
    "print('b.dtype: ', b.dtype)\n",
    "print('c.dtype: ', c.dtype)\n",
    "print('a.dtype: ', a.dtype)\n",
    "# One can also use\n",
    "d = a.to(torch.double)\n",
    "print('-----------')\n",
    "print('d.dtype: ', d.dtype)\n",
    "print('a.dtype: ', a.dtype)"
   ]
  },
  {
   "cell_type": "markdown",
   "metadata": {},
   "source": [
    "### Reshaping a tensor"
   ]
  },
  {
   "cell_type": "code",
   "execution_count": 6,
   "metadata": {},
   "outputs": [
    {
     "name": "stdout",
     "output_type": "stream",
     "text": [
      "tensor([[10,  2],\n",
      "        [ 3,  9]])\n",
      "tensor([10,  2,  3,  9])\n",
      "-----------\n",
      "tensor([[-1,  2],\n",
      "        [ 3,  9]])\n",
      "tensor([-1,  2,  3,  9])\n"
     ]
    }
   ],
   "source": [
    "# Reshape a tensor\n",
    "a = torch.tensor([1,2,3,9])\n",
    "b = a.view(2,-1) # Same as `a.view(2,2)`\n",
    "\n",
    "\n",
    "b[0,0] = 10\n",
    "print(b)\n",
    "print(a)\n",
    "print ('-----------')\n",
    "\n",
    "c = torch.reshape(a, (2,-1))\n",
    "\n",
    "c[0,0] = -1\n",
    "print(c)\n",
    "print(a)\n",
    "# All these tensors points to the same memory adress."
   ]
  },
  {
   "cell_type": "code",
   "execution_count": 6,
   "metadata": {},
   "outputs": [
    {
     "name": "stdout",
     "output_type": "stream",
     "text": [
      "b:  tensor([[0, 1],\n",
      "        [2, 3],\n",
      "        [4, 5]])\n",
      "c:  tensor([[0, 2, 4],\n",
      "        [1, 3, 5]])\n"
     ]
    }
   ],
   "source": [
    "a = torch.arange(6)\n",
    "b = a.view(3,2)\n",
    "print('b: ', b)\n",
    "\n",
    "c = b.transpose(0,1) # Swap axes 0 and 1\n",
    "print('c: ', c)"
   ]
  },
  {
   "cell_type": "markdown",
   "metadata": {},
   "source": [
    "### Numpy/torch functions"
   ]
  },
  {
   "cell_type": "code",
   "execution_count": 7,
   "metadata": {},
   "outputs": [],
   "source": [
    "a = torch.eye(3, dtype=torch.double) # Identity matrix\n",
    "b = torch.zeros([3,2,9]) # Tensor initialized to zero with the specified dimension\n",
    "c = torch.ones([3,2,9])  # Tensor initialized to zero with the specified dimension\n",
    "d = torch.rand((2,1,3))  # Tensor with random numbers in the interval [0,1)\n",
    "e = torch.linspace(0,3,101) # 101 equistant points in the interval [0,3]"
   ]
  },
  {
   "cell_type": "markdown",
   "metadata": {},
   "source": [
    "### Indexing\n",
    "Uses the usual convetions from Numpy"
   ]
  },
  {
   "cell_type": "code",
   "execution_count": 8,
   "metadata": {},
   "outputs": [
    {
     "name": "stdout",
     "output_type": "stream",
     "text": [
      "a:\n",
      " tensor([[0, 1, 2, 3, 4],\n",
      "        [5, 6, 7, 8, 9]])\n",
      "\n",
      "a[:, 1:3]:\n",
      " tensor([[0, 1, 2],\n",
      "        [5, 6, 7]])\n"
     ]
    }
   ],
   "source": [
    "a = torch.arange(10).view(2,5)\n",
    "print('a:\\n', a)\n",
    "print('\\na[:, 1:3]:\\n', a[:, 0:3])"
   ]
  },
  {
   "cell_type": "markdown",
   "metadata": {},
   "source": [
    "### Share data"
   ]
  },
  {
   "cell_type": "code",
   "execution_count": 9,
   "metadata": {},
   "outputs": [],
   "source": [
    "x = np.linspace(0,1,101)\n",
    "a = torch.from_numpy(x) # Convert numpy array to torch tensor\n",
    "#print(a.dtype)\n",
    "\n",
    "y = a.numpy() # Convert torch tensor to numpy array\n",
    "\n",
    "z = x.copy()  # Copy the underlying memory\n",
    "b = a.clone() # Copy the underlying memory"
   ]
  },
  {
   "cell_type": "markdown",
   "metadata": {},
   "source": [
    "### Mathematical operations"
   ]
  },
  {
   "cell_type": "code",
   "execution_count": 10,
   "metadata": {},
   "outputs": [
    {
     "name": "stdout",
     "output_type": "stream",
     "text": [
      "x:  tensor([-1.0000, -0.5000,  0.0000,  0.5000,  1.0000])\n",
      "|x|:  tensor([1.0000, 0.5000, 0.0000, 0.5000, 1.0000])\n",
      "max(x):  tensor(1.)\n",
      "x**2:  tensor([1.0000, 0.2500, 0.0000, 0.2500, 1.0000])\n",
      "||x||:  tensor(1.5811)\n"
     ]
    }
   ],
   "source": [
    "x = torch.linspace(-1,1, 5)\n",
    "print('x: ', x)\n",
    "print('|x|: ', x.abs())\n",
    "print('max(x): ', x.max())\n",
    "print('x**2: ', x.pow(2))\n",
    "print('||x||: ', x.pow(2).sum().sqrt())"
   ]
  },
  {
   "cell_type": "code",
   "execution_count": null,
   "metadata": {},
   "outputs": [],
   "source": []
  }
 ],
 "metadata": {
  "kernelspec": {
   "display_name": "Python 3 (ipykernel)",
   "language": "python",
   "name": "python3"
  },
  "language_info": {
   "codemirror_mode": {
    "name": "ipython",
    "version": 3
   },
   "file_extension": ".py",
   "mimetype": "text/x-python",
   "name": "python",
   "nbconvert_exporter": "python",
   "pygments_lexer": "ipython3",
   "version": "3.9.5"
  }
 },
 "nbformat": 4,
 "nbformat_minor": 4
}
