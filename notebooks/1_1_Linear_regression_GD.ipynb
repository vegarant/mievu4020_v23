{
 "cells": [
  {
   "cell_type": "markdown",
   "id": "5db43457-66cf-4e78-a8f0-0429bde36ce3",
   "metadata": {},
   "source": [
    "# Training a linear regression model with gradient decent\n",
    "This example is from Chapter 9, but I have changed the data"
   ]
  },
  {
   "cell_type": "code",
   "execution_count": 1,
   "id": "3c708965-c352-4149-90b0-ee1bee21b242",
   "metadata": {},
   "outputs": [],
   "source": [
    "import numpy as np\n",
    "import matplotlib.pyplot as plt"
   ]
  },
  {
   "cell_type": "markdown",
   "id": "84910ad4-e661-48b1-bfe1-5d6c1c15b00e",
   "metadata": {},
   "source": [
    "## Create data"
   ]
  },
  {
   "cell_type": "code",
   "execution_count": 2,
   "id": "1e3a8b38-7e81-44bb-a2f2-c6e594c8aae6",
   "metadata": {},
   "outputs": [
    {
     "data": {
      "image/png": "[encoded data removed]",
      "text/plain": [
       "<Figure size 432x288 with 1 Axes>"
      ]
     },
     "metadata": {
      "needs_background": "light"
     },
     "output_type": "display_data"
    }
   ],
   "source": [
    "X_train = np.arange(10, dtype='float32').reshape((10, 1))\n",
    "y_train = np.array([1.0, 1.3, 3.1, 2.0, 5.0, 6.3, 6.6, 7.4, 8.0, 9.0], dtype='float32')\n",
    "plt.plot(X_train, y_train, 'o', markersize=10)\n",
    "plt.xlabel('X')\n",
    "plt.ylabel('y')\n",
    "plt.show()"
   ]
  },
  {
   "cell_type": "markdown",
   "id": "4d381411-7816-4e24-9f2e-65da8e8c35d2",
   "metadata": {},
   "source": [
    "## Create a linear regression class"
   ]
  },
  {
   "cell_type": "code",
   "execution_count": 3,
   "id": "cd5bc9f5-469e-423a-a32c-1925977fe39d",
   "metadata": {},
   "outputs": [],
   "source": [
    "class LinearRegressionGD:\n",
    "    \n",
    "    def __init__(self, eta=0.0001, n_iter=500, random_state=1):\n",
    "        self.eta = eta\n",
    "        self.n_iter = n_iter\n",
    "        self.random_state = random_state\n",
    "    \n",
    "    def fit(self, X, y):\n",
    "        rgen = np.random.RandomState(self.random_state)\n",
    "        self.w_ = rgen.normal(loc=0.0, scale=0.01, size=X.shape[1])\n",
    "        self.b_ = np.array([0.])\n",
    "        self.losses_ = []\n",
    "        for i in range(self.n_iter):\n",
    "            output = self.net_input(X)\n",
    "            errors = (output - y)\n",
    "            self.w_ = self.w_ - self.eta * 2.0 * X.T.dot(errors) / X.shape[0]\n",
    "            self.b_ = self.b_ - self.eta * 2.0 * errors.mean()\n",
    "            loss = (errors**2).mean()\n",
    "            self.losses_.append(loss)\n",
    "        return self\n",
    "    \n",
    "    def net_input(self, X):\n",
    "        return np.dot(X, self.w_) + self.b_\n",
    "    \n",
    "    def predict(self, X):\n",
    "        return self.net_input(X)\n",
    "    "
   ]
  },
  {
   "cell_type": "code",
   "execution_count": 4,
   "id": "01277f69-8881-4721-ac86-9981703a3cfd",
   "metadata": {},
   "outputs": [
    {
     "data": {
      "text/plain": [
       "<__main__.LinearRegressionGD at 0x7f872c6df460>"
      ]
     },
     "execution_count": 4,
     "metadata": {},
     "output_type": "execute_result"
    }
   ],
   "source": [
    "# Create one class instance\n",
    "lr = LinearRegressionGD(eta=0.0001)\n",
    "lr.fit(X_train, y_train)\n"
   ]
  },
  {
   "cell_type": "markdown",
   "id": "268c7bb1-b2e8-4117-b598-2dd5fa73ad84",
   "metadata": {},
   "source": [
    "## Plott the solution"
   ]
  },
  {
   "cell_type": "code",
   "execution_count": 5,
   "id": "96d701d9-a538-4028-80e0-da70ffdfe6b6",
   "metadata": {},
   "outputs": [],
   "source": [
    "def lin_regplot(X, y, model):\n",
    "    plt.scatter(X, y, c='steelblue', edgecolor='white', s=70)\n",
    "    plt.plot(X, model.predict(X), color='black', lw=2)"
   ]
  },
  {
   "cell_type": "code",
   "execution_count": 6,
   "id": "fec28556-965e-4ec8-a5de-8aed767c7891",
   "metadata": {},
   "outputs": [
    {
     "data": {
      "image/png": "[encoded data removed]",
      "text/plain": [
       "<Figure size 432x288 with 1 Axes>"
      ]
     },
     "metadata": {
      "needs_background": "light"
     },
     "output_type": "display_data"
    }
   ],
   "source": [
    "lin_regplot(X_train, y_train, lr)\n",
    "plt.xlabel('X')\n",
    "plt.ylabel('y')\n",
    "plt.show()"
   ]
  },
  {
   "cell_type": "code",
   "execution_count": null,
   "id": "a4b50447-6e29-4213-8cad-92eadbc04287",
   "metadata": {},
   "outputs": [],
   "source": []
  }
 ],
 "metadata": {
  "kernelspec": {
   "display_name": "Python 3 (ipykernel)",
   "language": "python",
   "name": "python3"
  },
  "language_info": {
   "codemirror_mode": {
    "name": "ipython",
    "version": 3
   },
   "file_extension": ".py",
   "mimetype": "text/x-python",
   "name": "python",
   "nbconvert_exporter": "python",
   "pygments_lexer": "ipython3",
   "version": "3.9.5"
  }
 },
 "nbformat": 4,
 "nbformat_minor": 5
}
