{
 "cells": [
  {
   "cell_type": "markdown",
   "metadata": {},
   "source": [
    "# `torch.nn` vs `torch.nn.functional`\n",
    "* The `torch.nn.functional` module contains the underlying functions used by `torch.nn`.\n",
    "* The `torch.nn.functional` functions are \"stateless\", i.e., they do not keep track of items which change over time, such as weights, biases etc.\n",
    "* Most features exist both as a function and as a class."
   ]
  },
  {
   "cell_type": "code",
   "execution_count": 1,
   "metadata": {},
   "outputs": [
    {
     "data": {
      "text/plain": [
       "tensor([[True, True],\n",
       "        [True, True]])"
      ]
     },
     "execution_count": 1,
     "metadata": {},
     "output_type": "execute_result"
    }
   ],
   "source": [
    "import torch\n",
    "import torch.nn as nn\n",
    "import torch.nn.functional as F\n",
    "x = torch.randn(2,2)\n",
    "\n",
    "y = F.relu(x)\n",
    "\n",
    "relu = nn.ReLU() # creating the object first\n",
    "z = relu(x)      # then use it\n",
    "y == z           # they should be the same\n",
    "\n",
    "# Similarly:\n",
    "# mseloss = nn.MSELoss()\n",
    "# F.mseloss(...) == mseloss(...)"
   ]
  },
  {
   "cell_type": "code",
   "execution_count": 2,
   "metadata": {},
   "outputs": [
    {
     "data": {
      "text/plain": [
       "tensor(True)"
      ]
     },
     "execution_count": 2,
     "metadata": {},
     "output_type": "execute_result"
    }
   ],
   "source": [
    "\n",
    "x = torch.randn([1,1,100,100])\n",
    "\n",
    "conv1 = nn.Conv2d(in_channels=1, out_channels=1, kernel_size=3, bias=False)\n",
    "\n",
    "weight = conv1.weight\n",
    "\n",
    "z = x.clone()\n",
    "\n",
    "z = F.conv2d(z, weight=weight)\n",
    "x = conv1(x)\n",
    "\n",
    "x[0,0,0,0] == z[0,0,0,0]\n",
    "\n"
   ]
  },
  {
   "cell_type": "markdown",
   "metadata": {},
   "source": [
    "# Model parameters\n",
    "A model's parameters are stored in a `state_dict`"
   ]
  },
  {
   "cell_type": "code",
   "execution_count": 3,
   "metadata": {},
   "outputs": [],
   "source": [
    "class NeuralNetwork(nn.Module):\n",
    "    def __init__(self):\n",
    "        super().__init__()\n",
    "        # let's assume 28x28 input images, e.g., MNIST characters\n",
    "        self.fc1 = nn.Linear(in_features = 28 * 28, out_features = 128, bias=True)\n",
    "        self.fc2 = nn.Linear(in_features = 128, out_features = 64, bias=True)\n",
    "        self.fc3 = nn.Linear(in_features = 64, out_features = 10, bias=True)\n",
    "\n",
    "    def forward(self, x):\n",
    "        x = F.relu(self.fc1(x))\n",
    "        x = F.relu(self.fc2(x))\n",
    "        x = self.fc3(x)\n",
    "        return x"
   ]
  },
  {
   "cell_type": "code",
   "execution_count": 4,
   "metadata": {},
   "outputs": [
    {
     "name": "stdout",
     "output_type": "stream",
     "text": [
      "layer = fc1.weight | feature shape = torch.Size([128, 784])\n",
      "layer = fc1.bias   | feature shape = torch.Size([128])\n",
      "layer = fc2.weight | feature shape = torch.Size([64, 128])\n",
      "layer = fc2.bias   | feature shape = torch.Size([64])\n",
      "layer = fc3.weight | feature shape = torch.Size([10, 64])\n",
      "layer = fc3.bias   | feature shape = torch.Size([10])\n"
     ]
    }
   ],
   "source": [
    "model = NeuralNetwork();\n",
    "for key, value in model.state_dict().items():\n",
    "    print(f'layer = {key:10s} | feature shape = {value.shape}')"
   ]
  },
  {
   "cell_type": "markdown",
   "metadata": {},
   "source": [
    "# Save and load models\n",
    "We save the models `state_dict` and load this `state_dict` when we want to initalize a model."
   ]
  },
  {
   "cell_type": "code",
   "execution_count": 5,
   "metadata": {},
   "outputs": [
    {
     "data": {
      "text/plain": [
       "<All keys matched successfully>"
      ]
     },
     "execution_count": 5,
     "metadata": {},
     "output_type": "execute_result"
    }
   ],
   "source": [
    "# Save\n",
    "torch.save(model.state_dict(), 'model_weights.pth')\n",
    "\n",
    "# Load\n",
    "new_model = NeuralNetwork()\n",
    "new_model.load_state_dict(torch.load('model_weights.pth'))"
   ]
  },
  {
   "cell_type": "code",
   "execution_count": null,
   "metadata": {},
   "outputs": [],
   "source": []
  },
  {
   "cell_type": "code",
   "execution_count": null,
   "metadata": {},
   "outputs": [],
   "source": []
  }
 ],
 "metadata": {
  "kernelspec": {
   "display_name": "Python 3 (ipykernel)",
   "language": "python",
   "name": "python3"
  },
  "language_info": {
   "codemirror_mode": {
    "name": "ipython",
    "version": 3
   },
   "file_extension": ".py",
   "mimetype": "text/x-python",
   "name": "python",
   "nbconvert_exporter": "python",
   "pygments_lexer": "ipython3",
   "version": "3.9.5"
  }
 },
 "nbformat": 4,
 "nbformat_minor": 4
}
